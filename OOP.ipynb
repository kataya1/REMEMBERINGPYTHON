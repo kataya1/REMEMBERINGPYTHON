{
 "nbformat": 4,
 "nbformat_minor": 2,
 "metadata": {
  "language_info": {
   "name": "python",
   "codemirror_mode": {
    "name": "ipython",
    "version": 3
   }
  },
  "orig_nbformat": 2,
  "file_extension": ".py",
  "mimetype": "text/x-python",
  "name": "python",
  "npconvert_exporter": "python",
  "pygments_lexer": "ipython3",
  "version": 3
 },
 "cells": [
  {
   "cell_type": "code",
   "execution_count": null,
   "metadata": {},
   "outputs": [],
   "source": [
    "\"\"\" OOP and Design Patterns \"\"\"\n",
    "\n",
    "# # Built-In Class Attributes\n",
    "# Every Python class keeps following built-in attributes and they can be accessed using dot operator like any other attrib\n",
    "# __dict__ − Dictionary containing the class's namespace.\n",
    "# __doc__ − Class documentation string or none, if undefined.\n",
    "# __name__ − Class name.\n",
    "# __module__ − Module name in which the class is defined. This attribute is \"__main__\" in interactive mode.\n",
    "# __bases__ − A possibly empty tuple containing the base classes, in the order of their occurrence in the base class list."
   ]
  },
  {
   "cell_type": "code",
   "execution_count": null,
   "metadata": {},
   "outputs": [],
   "source": [
    "class Node:\n",
    "  # this is a class comment you can access through [classname].__doc__\n",
    "  'node in a tree' \n",
    "  #these are class atributes (like a static attributes)\n",
    "  middleL = None\n",
    "  middleR = None\n",
    "  nodecount = 0\n",
    "\n",
    "  def __init__(self):\n",
    "    # there are object attiributes\n",
    "      self.value = 0\n",
    "      self.left = None\n",
    "      self.right = None\n",
    "      Node.nodecount += 1\n",
    "  def toString(self):\n",
    "      print(self, \"\\n\", self.value, \"\\n\", self.left, \"\\n\",  self.left.value, \"\\n\", self.right, \"\\n\", self.middleL, \"\\n\", self.middleR)\n",
    "\n",
    "root = Node()\n",
    "root.value = 3\n",
    "root.left = Node()\n",
    "\n",
    "print(root.value)\n",
    "root.toString()"
   ]
  },
  {
   "cell_type": "code",
   "execution_count": null,
   "metadata": {},
   "outputs": [],
   "source": [
    "'''Instead of using the normal statements to access attributes, you can use the following functions −\n",
    "The getattr(obj, name[, default]) − to access the attribute of object.\n",
    "The hasattr(obj,name) − to check if an attribute exists or not.\n",
    "The setattr(obj,name,value) − to set an attribute. If attribute does not exist, then it would be created.\n",
    "The delattr(obj, name) − to delete an attribute.'''"
   ]
  },
  {
   "cell_type": "code",
   "execution_count": null,
   "metadata": {},
   "outputs": [],
   "source": [
    "'''DECORATOR'''\n",
    "class DecoratorExample:\n",
    "  \"\"\" Example Class \"\"\"\n",
    "  def __init__(self):\n",
    "    \"\"\" Example Setup \"\"\"\n",
    "    print('Hello, World!')\n",
    "\n",
    "  @staticmethod\n",
    "  def example_function():\n",
    "    \"\"\" This method is decorated! \"\"\"\n",
    "    print('I\\'m a decorated function!')\n",
    "de = DecoratorExample()\n",
    "de.example_function()"
   ]
  },
  {
   "cell_type": "code",
   "execution_count": null,
   "metadata": {},
   "outputs": [],
   "source": [
    "''' Instance Methods in Python'''\n",
    "class DecoratorExample:\n",
    "  \"\"\" Example Class \"\"\"\n",
    "  def __init__(self):\n",
    "    \"\"\" Example Setup \"\"\"\n",
    "    print('Hello, World!')\n",
    "    self.name = 'Decorator_Example'\n",
    "\n",
    "  def example_function(self):\n",
    "    \"\"\" This method is an instance method! \"\"\"\n",
    "    print('I\\'m an instance method!')\n",
    "    print('My name is ' + self.name)\n",
    " \n",
    "de = DecoratorExample()\n",
    "de.example_function()"
   ]
  },
  {
   "cell_type": "code",
   "execution_count": null,
   "metadata": {},
   "outputs": [],
   "source": [
    "''' static method '''\n",
    "class DecoratorExample:\n",
    "  \"\"\" Example Class \"\"\"\n",
    "  def __init__(self):\n",
    "    \"\"\" Example Setup \"\"\"\n",
    "    print('Hello, World!') \n",
    "\n",
    "  @staticmethod\n",
    "  def example_function():\n",
    "    \"\"\" This method is a static method! \"\"\"\n",
    "    print('I\\'m a static method!')\n",
    "de = DecoratorExample.example_function()\n",
    "print(type(de))\n"
   ]
  },
  {
   "cell_type": "code",
   "execution_count": null,
   "metadata": {},
   "outputs": [],
   "source": [
    "'''class method'''\n",
    "'''Class methods are the third and final OOP method type to know. \n",
    "Class methods know about their class. They can’t access specific instance data,\n",
    "but they can call other static methods.\n",
    "Class methods don’t need self as an argument,\n",
    "but they do need a parameter called cls.\n",
    "This stands for class, and like self, gets automatically passed in by Python.\n",
    "Class methods are created using the @classmethod decorator.\n",
    "Class methods are possibly the more confusing method types of the three,\n",
    " but they do have their uses. Class methods can manipulate the class itself,\n",
    "which is useful when you’re working on larger, more complex projects.'''\n",
    "class DecoratorExample:\n",
    "  \"\"\" Example Class \"\"\"\n",
    "  def __init__(self):\n",
    "    \"\"\" Example Setup \"\"\"\n",
    "    print('Hello, World!') \n",
    "  @classmethod\n",
    "  def example_function(cls):\n",
    "    \"\"\" This method is a class method! \"\"\"\n",
    "    print('I\\'m a class method!')\n",
    "    cls.some_other_function()\n",
    "  @staticmethod\n",
    "  def some_other_function():\n",
    "    print('Hello!')\n",
    "de = DecoratorExample()\n",
    "de.example_function()"
   ]
  },
  {
   "cell_type": "code",
   "execution_count": null,
   "metadata": {},
   "outputs": [],
   "source": [
    "'operator overloading' 😊\n",
    "'''Suppose you have created a Vector class to represent two-dimensional vectors, what happens when you use the plus operator to add them? Most likely Python will yell at you.\n",
    "You could, however, define the __add__ method in your class to perform vector addition and then the plus operator would behave as per expectation −'''\n",
    "class Vector:\n",
    "   def __init__(self, a, b):\n",
    "      self.a = a\n",
    "      self.b = b\n",
    "\n",
    "   def __str__(self):\n",
    "      return 'Vector (%d, %d)' % (self.a, self.b)\n",
    "   \n",
    "   def __add__(self,other):\n",
    "      return Vector(self.a + other.a, self.b + other.b)\n",
    "\n",
    "v1 = Vector(2,10)\n",
    "v2 = Vector(5,-2)\n",
    "print (v1 + v2) # --> ouptup: Vector(7,8)"
   ]
  }
 ]
}