{
 "nbformat": 4,
 "nbformat_minor": 2,
 "metadata": {
  "language_info": {
   "name": "python",
   "codemirror_mode": {
    "name": "ipython",
    "version": 3
   },
   "version": "3.7.3-final"
  },
  "orig_nbformat": 2,
  "file_extension": ".py",
  "mimetype": "text/x-python",
  "name": "python",
  "npconvert_exporter": "python",
  "pygments_lexer": "ipython3",
  "version": 3,
  "kernelspec": {
   "name": "python37364bit9ba31bfddb694805956a23f890fe82c0",
   "display_name": "Python 3.7.3 64-bit"
  }
 },
 "cells": [
  {
   "cell_type": "code",
   "execution_count": 1,
   "metadata": {},
   "outputs": [],
   "source": [
    "import sys\n",
    "import random\n",
    "import os\n",
    "# pdb for debugging\n",
    "import pdb\n",
    "import collections"
   ]
  },
  {
   "cell_type": "code",
   "execution_count": null,
   "metadata": {},
   "outputs": [
    {
     "ename": "Error",
     "evalue": "Failed to connect to Jupyter notebook. \r\nhttp://localhost:8888/\r\nError: Invalid response: 500 Internal Server Error",
     "output_type": "error",
     "traceback": [
      "Error: Failed to connect to Jupyter notebook.",
      "http://localhost:8888/",
      "Error: Invalid response: 500 Internal Server Error",
      "at c:\\Users\\mohamdkataya1\\.vscode\\extensions\\ms-python.python-2020.2.63072\\out\\client\\extension.js:1:812245"
     ]
    }
   ],
   "source": [
    "# data types\n",
    "# numbers (int, floats, complex)\n",
    "x = 3; y = 8.19; z = 1+2j\n",
    "# strings\n",
    "s = 'strings'\n",
    "# lists\n",
    "u = [1, 2, 3]\n",
    "# tubles\n",
    "t = (1, 2, 3)\n",
    "# dictionary\n",
    "d = { 'a': 123, b: 'bob', 54: 'alice'}\n",
    "ss = set(u)\n",
    "ss\n",
    "\n"
   ]
  },
  {
   "cell_type": "code",
   "execution_count": null,
   "metadata": {},
   "outputs": [],
   "source": []
  }
 ]
}